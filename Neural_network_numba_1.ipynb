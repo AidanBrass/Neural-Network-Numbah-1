{
  "nbformat": 4,
  "nbformat_minor": 0,
  "metadata": {
    "colab": {
      "provenance": [],
      "authorship_tag": "ABX9TyOOGCbZk6N+zmJZLqdDOKY3",
      "include_colab_link": true
    },
    "kernelspec": {
      "name": "python3",
      "display_name": "Python 3"
    },
    "language_info": {
      "name": "python"
    }
  },
  "cells": [
    {
      "cell_type": "markdown",
      "metadata": {
        "id": "view-in-github",
        "colab_type": "text"
      },
      "source": [
        "<a href=\"https://colab.research.google.com/github/AidanBrass/Neural-Network-Numbah-1/blob/main/Neural_network_numba_1.ipynb\" target=\"_parent\"><img src=\"https://colab.research.google.com/assets/colab-badge.svg\" alt=\"Open In Colab\"/></a>"
      ]
    },
    {
      "cell_type": "code",
      "execution_count": null,
      "metadata": {
        "id": "bNaI54sHIWKR"
      },
      "outputs": [],
      "source": [
        "import sys\n",
        "import numpy as np\n",
        "import matplotlib\n"
      ]
    },
    {
      "cell_type": "code",
      "source": [
        "inputs = [1,2,3,2.5]\n",
        "\n",
        "weights = [[0.2,0.8,-0.5,1.0],\n",
        "          [0.5,-0.91,0.26,-0.5],\n",
        "          [ -0.26,-0.27,0.17,0.87]]\n",
        "\n",
        "biases = [2,3,0.5]\n",
        "\n",
        "layer_outputs = []  #output of current layer\n",
        "for neuron_weights,neuron_bias in zip(weights,biases):\n",
        "    neuron_output = 0\n",
        "    for n_input,weight in zip(inputs,neuron_weights): #output of given neuron\n",
        "        neuron_output += n_input*weight\n",
        "        neuron_output += neuron_bias\n",
        "    layer_outputs.append(neuron_output)\n",
        "\n",
        "print(layer_outputs)\n"
      ],
      "metadata": {
        "colab": {
          "base_uri": "https://localhost:8080/"
        },
        "id": "ct44ZvRgIxeD",
        "outputId": "fb2fece5-2301-4eaa-dfc3-4a5910c8c7f2"
      },
      "execution_count": null,
      "outputs": [
        {
          "output_type": "stream",
          "name": "stdout",
          "text": [
            "[10.8, 10.21, 3.885]\n"
          ]
        }
      ]
    }
  ]
}